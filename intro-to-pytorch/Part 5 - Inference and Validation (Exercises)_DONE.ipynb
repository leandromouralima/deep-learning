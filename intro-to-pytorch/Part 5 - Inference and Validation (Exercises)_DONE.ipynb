{
  "nbformat": 4,
  "nbformat_minor": 0,
  "metadata": {
    "colab": {
      "name": "Part 5 - Inference and Validation (Exercises).ipynb",
      "version": "0.3.2",
      "provenance": [],
      "toc_visible": true
    },
    "language_info": {
      "codemirror_mode": {
        "name": "ipython",
        "version": 3
      },
      "file_extension": ".py",
      "mimetype": "text/x-python",
      "name": "python",
      "nbconvert_exporter": "python",
      "pygments_lexer": "ipython3",
      "version": "3.6.6"
    },
    "kernelspec": {
      "name": "python3",
      "display_name": "Python 3"
    },
    "accelerator": "GPU"
  },
  "cells": [
    {
      "cell_type": "markdown",
      "metadata": {
        "id": "Zo4fbj-JbxT5",
        "colab_type": "text"
      },
      "source": [
        "# Inference and Validation\n",
        "\n",
        "Now that you have a trained network, you can use it for making predictions. This is typically called **inference**, a term borrowed from statistics. However, neural networks have a tendency to perform *too well* on the training data and aren't able to generalize to data that hasn't been seen before. This is called **overfitting** and it impairs inference performance. To test for overfitting while training, we measure the performance on data not in the training set called the **validation** set. We avoid overfitting through regularization such as dropout while monitoring the validation performance during training. In this notebook, I'll show you how to do this in PyTorch. \n",
        "\n",
        "As usual, let's start by loading the dataset through torchvision. You'll learn more about torchvision and loading data in a later part. This time we'll be taking advantage of the test set which you can get by setting `train=False` here:\n",
        "\n",
        "```python\n",
        "testset = datasets.FashionMNIST('~/.pytorch/F_MNIST_data/', download=True, train=False, transform=transform)\n",
        "```\n",
        "\n",
        "The test set contains images just like the training set. Typically you'll see 10-20% of the original dataset held out for testing and validation with the rest being used for training."
      ]
    },
    {
      "cell_type": "code",
      "metadata": {
        "id": "W1ZxODuqbxT8",
        "colab_type": "code",
        "colab": {
          "base_uri": "https://localhost:8080/",
          "height": 275
        },
        "outputId": "419fddbf-926b-48ae-9696-34359f74aec5"
      },
      "source": [
        "import torch\n",
        "from torchvision import datasets, transforms\n",
        "\n",
        "# Define a transform to normalize the data\n",
        "transform = transforms.Compose([transforms.ToTensor(),\n",
        "                                transforms.Normalize((0.5,), (0.5,))])\n",
        "# Download and load the training data\n",
        "trainset = datasets.FashionMNIST('~/.pytorch/F_MNIST_data/', download=True, train=True, transform=transform)\n",
        "trainloader = torch.utils.data.DataLoader(trainset, batch_size=64, shuffle=True)\n",
        "\n",
        "# Download and load the test data\n",
        "testset = datasets.FashionMNIST('~/.pytorch/F_MNIST_data/', download=True, train=False, transform=transform)\n",
        "testloader = torch.utils.data.DataLoader(testset, batch_size=64, shuffle=True)"
      ],
      "execution_count": 1,
      "outputs": [
        {
          "output_type": "stream",
          "text": [
            "\r0it [00:00, ?it/s]"
          ],
          "name": "stderr"
        },
        {
          "output_type": "stream",
          "text": [
            "Downloading http://fashion-mnist.s3-website.eu-central-1.amazonaws.com/train-images-idx3-ubyte.gz to /root/.pytorch/F_MNIST_data/FashionMNIST/raw/train-images-idx3-ubyte.gz\n"
          ],
          "name": "stdout"
        },
        {
          "output_type": "stream",
          "text": [
            "26427392it [00:01, 13278588.26it/s]                              \n"
          ],
          "name": "stderr"
        },
        {
          "output_type": "stream",
          "text": [
            "Extracting /root/.pytorch/F_MNIST_data/FashionMNIST/raw/train-images-idx3-ubyte.gz\n"
          ],
          "name": "stdout"
        },
        {
          "output_type": "stream",
          "text": [
            "\r0it [00:00, ?it/s]"
          ],
          "name": "stderr"
        },
        {
          "output_type": "stream",
          "text": [
            "Downloading http://fashion-mnist.s3-website.eu-central-1.amazonaws.com/train-labels-idx1-ubyte.gz to /root/.pytorch/F_MNIST_data/FashionMNIST/raw/train-labels-idx1-ubyte.gz\n"
          ],
          "name": "stdout"
        },
        {
          "output_type": "stream",
          "text": [
            "32768it [00:00, 101226.42it/s]           \n",
            "0it [00:00, ?it/s]"
          ],
          "name": "stderr"
        },
        {
          "output_type": "stream",
          "text": [
            "Extracting /root/.pytorch/F_MNIST_data/FashionMNIST/raw/train-labels-idx1-ubyte.gz\n",
            "Downloading http://fashion-mnist.s3-website.eu-central-1.amazonaws.com/t10k-images-idx3-ubyte.gz to /root/.pytorch/F_MNIST_data/FashionMNIST/raw/t10k-images-idx3-ubyte.gz\n"
          ],
          "name": "stdout"
        },
        {
          "output_type": "stream",
          "text": [
            "4423680it [00:01, 4253142.76it/s]                            \n",
            "0it [00:00, ?it/s]"
          ],
          "name": "stderr"
        },
        {
          "output_type": "stream",
          "text": [
            "Extracting /root/.pytorch/F_MNIST_data/FashionMNIST/raw/t10k-images-idx3-ubyte.gz\n",
            "Downloading http://fashion-mnist.s3-website.eu-central-1.amazonaws.com/t10k-labels-idx1-ubyte.gz to /root/.pytorch/F_MNIST_data/FashionMNIST/raw/t10k-labels-idx1-ubyte.gz\n"
          ],
          "name": "stdout"
        },
        {
          "output_type": "stream",
          "text": [
            "8192it [00:00, 34241.47it/s]            "
          ],
          "name": "stderr"
        },
        {
          "output_type": "stream",
          "text": [
            "Extracting /root/.pytorch/F_MNIST_data/FashionMNIST/raw/t10k-labels-idx1-ubyte.gz\n",
            "Processing...\n",
            "Done!\n"
          ],
          "name": "stdout"
        },
        {
          "output_type": "stream",
          "text": [
            "\n"
          ],
          "name": "stderr"
        }
      ]
    },
    {
      "cell_type": "markdown",
      "metadata": {
        "id": "yR0-_zYJbxUB",
        "colab_type": "text"
      },
      "source": [
        "Here I'll create a model like normal, using the same one from my solution for part 4."
      ]
    },
    {
      "cell_type": "code",
      "metadata": {
        "id": "l_FYbS14bxUC",
        "colab_type": "code",
        "colab": {}
      },
      "source": [
        "from torch import nn, optim\n",
        "import torch.nn.functional as F\n",
        "\n",
        "class Classifier(nn.Module):\n",
        "    def __init__(self):\n",
        "        super().__init__()\n",
        "        self.fc1 = nn.Linear(784, 256)\n",
        "        self.fc2 = nn.Linear(256, 128)\n",
        "        self.fc3 = nn.Linear(128, 64)\n",
        "        self.fc4 = nn.Linear(64, 10)\n",
        "        \n",
        "    def forward(self, x):\n",
        "        # make sure input tensor is flattened\n",
        "        x = x.view(x.shape[0], -1)\n",
        "        \n",
        "        x = F.relu(self.fc1(x))\n",
        "        x = F.relu(self.fc2(x))\n",
        "        x = F.relu(self.fc3(x))\n",
        "        x = F.log_softmax(self.fc4(x), dim=1)\n",
        "        \n",
        "        return x"
      ],
      "execution_count": 0,
      "outputs": []
    },
    {
      "cell_type": "markdown",
      "metadata": {
        "id": "MoNQ3ViebxUG",
        "colab_type": "text"
      },
      "source": [
        "The goal of validation is to measure the model's performance on data that isn't part of the training set. Performance here is up to the developer to define though. Typically this is just accuracy, the percentage of classes the network predicted correctly. Other options are [precision and recall](https://en.wikipedia.org/wiki/Precision_and_recall#Definition_(classification_context)) and top-5 error rate. We'll focus on accuracy here. First I'll do a forward pass with one batch from the test set."
      ]
    },
    {
      "cell_type": "code",
      "metadata": {
        "id": "7ytFv7-6bxUH",
        "colab_type": "code",
        "outputId": "1bcafc16-37a2-4b7a-fb7c-0b903114b637",
        "colab": {
          "base_uri": "https://localhost:8080/",
          "height": 34
        }
      },
      "source": [
        "model = Classifier()\n",
        "\n",
        "images, labels = next(iter(testloader))\n",
        "# Get the class probabilities\n",
        "ps = torch.exp(model(images))\n",
        "# Make sure the shape is appropriate, we should get 10 class probabilities for 64 examples\n",
        "print(ps.shape)"
      ],
      "execution_count": 10,
      "outputs": [
        {
          "output_type": "stream",
          "text": [
            "torch.Size([64, 10])\n"
          ],
          "name": "stdout"
        }
      ]
    },
    {
      "cell_type": "markdown",
      "metadata": {
        "id": "ys9QMBlNbxUL",
        "colab_type": "text"
      },
      "source": [
        "With the probabilities, we can get the most likely class using the `ps.topk` method. This returns the $k$ highest values. Since we just want the most likely class, we can use `ps.topk(1)`. This returns a tuple of the top-$k$ values and the top-$k$ indices. If the highest value is the fifth element, we'll get back 4 as the index."
      ]
    },
    {
      "cell_type": "code",
      "metadata": {
        "id": "cH1qdNpbbxUM",
        "colab_type": "code",
        "outputId": "7780df1c-a4e6-4f70-b12b-de3cb19c49fd",
        "colab": {
          "base_uri": "https://localhost:8080/",
          "height": 187
        }
      },
      "source": [
        "top_p, top_class = ps.topk(1, dim=1)\n",
        "# Look at the most likely classes for the first 10 examples\n",
        "\n",
        "print(top_class[:10,:])"
      ],
      "execution_count": 11,
      "outputs": [
        {
          "output_type": "stream",
          "text": [
            "tensor([[8],\n",
            "        [7],\n",
            "        [1],\n",
            "        [7],\n",
            "        [7],\n",
            "        [8],\n",
            "        [8],\n",
            "        [8],\n",
            "        [7],\n",
            "        [8]])\n"
          ],
          "name": "stdout"
        }
      ]
    },
    {
      "cell_type": "markdown",
      "metadata": {
        "id": "ZzC2R5o4bxUP",
        "colab_type": "text"
      },
      "source": [
        "Now we can check if the predicted classes match the labels. This is simple to do by equating `top_class` and `labels`, but we have to be careful of the shapes. Here `top_class` is a 2D tensor with shape `(64, 1)` while `labels` is 1D with shape `(64)`. To get the equality to work out the way we want, `top_class` and `labels` must have the same shape.\n",
        "\n",
        "If we do\n",
        "\n",
        "```python\n",
        "equals = top_class == labels\n",
        "```\n",
        "\n",
        "`equals` will have shape `(64, 64)`, try it yourself. What it's doing is comparing the one element in each row of `top_class` with each element in `labels` which returns 64 True/False boolean values for each row."
      ]
    },
    {
      "cell_type": "code",
      "metadata": {
        "id": "s-5ynNxTbxUQ",
        "colab_type": "code",
        "colab": {}
      },
      "source": [
        "equals = top_class == labels.view(*top_class.shape)"
      ],
      "execution_count": 0,
      "outputs": []
    },
    {
      "cell_type": "markdown",
      "metadata": {
        "id": "uCl0EIcFbxUT",
        "colab_type": "text"
      },
      "source": [
        "Now we need to calculate the percentage of correct predictions. `equals` has binary values, either 0 or 1. This means that if we just sum up all the values and divide by the number of values, we get the percentage of correct predictions. This is the same operation as taking the mean, so we can get the accuracy with a call to `torch.mean`. If only it was that simple. If you try `torch.mean(equals)`, you'll get an error\n",
        "\n",
        "```\n",
        "RuntimeError: mean is not implemented for type torch.ByteTensor\n",
        "```\n",
        "\n",
        "This happens because `equals` has type `torch.ByteTensor` but `torch.mean` isn't implemented for tensors with that type. So we'll need to convert `equals` to a float tensor. Note that when we take `torch.mean` it returns a scalar tensor, to get the actual value as a float we'll need to do `accuracy.item()`."
      ]
    },
    {
      "cell_type": "code",
      "metadata": {
        "id": "m8qhi1WlbxUT",
        "colab_type": "code",
        "outputId": "95c9d5e3-5a12-460c-85e3-0922ba67bb66",
        "colab": {
          "base_uri": "https://localhost:8080/",
          "height": 34
        }
      },
      "source": [
        "accuracy = torch.mean(equals.type(torch.FloatTensor))\n",
        "print(f'Accuracy: {accuracy.item()*100}%')"
      ],
      "execution_count": 13,
      "outputs": [
        {
          "output_type": "stream",
          "text": [
            "Accuracy: 12.5%\n"
          ],
          "name": "stdout"
        }
      ]
    },
    {
      "cell_type": "markdown",
      "metadata": {
        "id": "ff8aLAxJbxUW",
        "colab_type": "text"
      },
      "source": [
        "The network is untrained so it's making random guesses and we should see an accuracy around 10%. Now let's train our network and include our validation pass so we can measure how well the network is performing on the test set. Since we're not updating our parameters in the validation pass, we can speed up our code by turning off gradients using `torch.no_grad()`:\n",
        "\n",
        "```python\n",
        "# turn off gradients\n",
        "with torch.no_grad():\n",
        "    # validation pass here\n",
        "    for images, labels in testloader:\n",
        "        ...\n",
        "```\n",
        "\n",
        ">**Exercise:** Implement the validation loop below and print out the total accuracy after the loop. You can largely copy and paste the code from above, but I suggest typing it in because writing it out yourself is essential for building the skill. In general you'll always learn more by typing it rather than copy-pasting. You should be able to get an accuracy above 80%."
      ]
    },
    {
      "cell_type": "code",
      "metadata": {
        "id": "AZXhyhSCbxUW",
        "colab_type": "code",
        "outputId": "15c5dd4d-17cc-474f-ff9d-0fb5006e6649",
        "colab": {
          "base_uri": "https://localhost:8080/",
          "height": 1547
        }
      },
      "source": [
        "model = Classifier()\n",
        "criterion = nn.NLLLoss()\n",
        "optimizer = optim.Adam(model.parameters(), lr=0.003)\n",
        "\n",
        "epochs = 30\n",
        "\n",
        "train_losses, test_losses = [], []\n",
        "for e in range(epochs):\n",
        "    train_loss = 0 \n",
        "    test_loss = 0\n",
        "    for images, labels in trainloader:\n",
        "        \n",
        "        optimizer.zero_grad()\n",
        "        \n",
        "        log_ps = model(images)\n",
        "        loss = criterion(log_ps, labels)\n",
        "        loss.backward()\n",
        "        optimizer.step()\n",
        "        \n",
        "        train_loss += loss.item()\n",
        "\n",
        "    else:\n",
        "        with torch.no_grad():\n",
        "\n",
        "            ## TODO: Implement the validation pass and print out the validation accuracy\n",
        "            accuracy = 0\n",
        "            #step2 = 0\n",
        "            for imagesT, labelsT in testloader:\n",
        "\n",
        "                log_psT = model(imagesT)\n",
        "                loss = criterion(log_psT, labelsT)\n",
        "              \n",
        "                psT = torch.exp(log_psT)\n",
        "                prob, classIndex = psT.topk(1,dim=1)\n",
        "                equals = classIndex == labelsT.view(*classIndex.shape)\n",
        "                acc = torch.mean(equals.type(torch.FloatTensor))\n",
        "                \n",
        "                test_loss += loss.item()\n",
        "                accuracy += acc.item()\n",
        "                #track_acc[step2] = acc.item()\n",
        "                #step2 += 1       \n",
        "        \n",
        "            else:\n",
        "                #track_acc[steps]=accuracy/len(testloader)\n",
        "                train_losses.append(train_loss/len(trainloader))\n",
        "                test_losses.append(test_loss/len(testloader))\n",
        "              \n",
        "                #track_acc[steps] = accuracy/len(testloader)\n",
        "                print(f'Accuracy: {accuracy*100/len(testloader)}%')      \n",
        "                print(f'Train Losses: {train_loss/len(trainloader)}')\n",
        "                print(f'Test Losses: {test_loss/len(testloader)}')\n",
        "        \n",
        "\n",
        "\n",
        "                \n",
        "                 "
      ],
      "execution_count": 14,
      "outputs": [
        {
          "output_type": "stream",
          "text": [
            "Accuracy: 84.32523885350318%\n",
            "Train Losses: 0.5236167143911187\n",
            "Test Losses: 0.4443263666834801\n",
            "Accuracy: 85.34036624203821%\n",
            "Train Losses: 0.3910897000194358\n",
            "Test Losses: 0.4100392972397956\n",
            "Accuracy: 86.16640127388536%\n",
            "Train Losses: 0.3568886053253974\n",
            "Test Losses: 0.3904745209558754\n",
            "Accuracy: 85.828025477707%\n",
            "Train Losses: 0.33313070365519665\n",
            "Test Losses: 0.3933341651205804\n",
            "Accuracy: 86.98248407643312%\n",
            "Train Losses: 0.31614514869222765\n",
            "Test Losses: 0.36763170902516434\n",
            "Accuracy: 87.06210191082802%\n",
            "Train Losses: 0.3028374912419807\n",
            "Test Losses: 0.3677478528041748\n",
            "Accuracy: 86.64410828025478%\n",
            "Train Losses: 0.29439750037340723\n",
            "Test Losses: 0.3807614309962388\n",
            "Accuracy: 86.15644904458598%\n",
            "Train Losses: 0.28617998593047994\n",
            "Test Losses: 0.3886267803846651\n",
            "Accuracy: 86.63415605095541%\n",
            "Train Losses: 0.27488383819966683\n",
            "Test Losses: 0.3927413028706411\n",
            "Accuracy: 87.80851910828025%\n",
            "Train Losses: 0.26808217101529846\n",
            "Test Losses: 0.35415336233415423\n",
            "Accuracy: 86.91281847133757%\n",
            "Train Losses: 0.2604859087910098\n",
            "Test Losses: 0.3871455442184096\n",
            "Accuracy: 87.69904458598727%\n",
            "Train Losses: 0.253469544961286\n",
            "Test Losses: 0.38425696626969963\n",
            "Accuracy: 87.81847133757962%\n",
            "Train Losses: 0.24897892866879384\n",
            "Test Losses: 0.373110520422079\n",
            "Accuracy: 87.21138535031847%\n",
            "Train Losses: 0.24578707109588677\n",
            "Test Losses: 0.391700637663246\n",
            "Accuracy: 87.79856687898089%\n",
            "Train Losses: 0.23784495312283668\n",
            "Test Losses: 0.3867322519706313\n",
            "Accuracy: 88.11703821656052%\n",
            "Train Losses: 0.23312674446114853\n",
            "Test Losses: 0.3820083347285629\n",
            "Accuracy: 87.73885350318471%\n",
            "Train Losses: 0.2285756793325898\n",
            "Test Losses: 0.3919922260531954\n",
            "Accuracy: 88.66441082802548%\n",
            "Train Losses: 0.22742690252406256\n",
            "Test Losses: 0.38924600895802686\n",
            "Accuracy: 87.72890127388536%\n",
            "Train Losses: 0.22192352439469493\n",
            "Test Losses: 0.4115356850396296\n",
            "Accuracy: 88.27627388535032%\n",
            "Train Losses: 0.21670001239648887\n",
            "Test Losses: 0.4052842440688686\n",
            "Accuracy: 88.05732484076434%\n",
            "Train Losses: 0.21609167123177667\n",
            "Test Losses: 0.4078757037307806\n",
            "Accuracy: 88.13694267515923%\n",
            "Train Losses: 0.20889378633739344\n",
            "Test Losses: 0.38970701386974116\n",
            "Accuracy: 87.49004777070064%\n",
            "Train Losses: 0.20951540958779707\n",
            "Test Losses: 0.4063228158054838\n",
            "Accuracy: 87.92794585987261%\n",
            "Train Losses: 0.20067438186565315\n",
            "Test Losses: 0.4278657605313951\n",
            "Accuracy: 87.85828025477707%\n",
            "Train Losses: 0.20380009595217355\n",
            "Test Losses: 0.3929836981140884\n",
            "Accuracy: 88.75398089171975%\n",
            "Train Losses: 0.19461408547405748\n",
            "Test Losses: 0.3946326909835931\n",
            "Accuracy: 88.42555732484077%\n",
            "Train Losses: 0.19401789445485643\n",
            "Test Losses: 0.40338532007329025\n",
            "Accuracy: 88.39570063694268%\n",
            "Train Losses: 0.18772665125681265\n",
            "Test Losses: 0.4208183557174768\n",
            "Accuracy: 88.0672770700637%\n",
            "Train Losses: 0.1902975122223912\n",
            "Test Losses: 0.42540675268811023\n",
            "Accuracy: 88.34593949044586%\n",
            "Train Losses: 0.19069084129941616\n",
            "Test Losses: 0.4222360456919974\n"
          ],
          "name": "stdout"
        }
      ]
    },
    {
      "cell_type": "code",
      "metadata": {
        "id": "xqCLFW2osX9V",
        "colab_type": "code",
        "outputId": "9fddd52c-f4f0-4489-bbef-f34b961c02bd",
        "colab": {
          "base_uri": "https://localhost:8080/",
          "height": 286
        }
      },
      "source": [
        "import matplotlib.pyplot as plt\n",
        "\n",
        "plt.plot(train_losses)\n",
        "plt.plot(test_losses)\n",
        "#track\n",
        "#track_acc"
      ],
      "execution_count": 17,
      "outputs": [
        {
          "output_type": "execute_result",
          "data": {
            "text/plain": [
              "[<matplotlib.lines.Line2D at 0x7fc2ba4a8320>]"
            ]
          },
          "metadata": {
            "tags": []
          },
          "execution_count": 17
        },
        {
          "output_type": "display_data",
          "data": {
            "image/png": "[encoded data removed]",
            "text/plain": [
              "<Figure size 432x288 with 1 Axes>"
            ]
          },
          "metadata": {
            "tags": []
          }
        }
      ]
    },
    {
      "cell_type": "markdown",
      "metadata": {
        "id": "A1p5Ayb6bxUY",
        "colab_type": "text"
      },
      "source": [
        "## Overfitting\n",
        "\n",
        "If we look at the training and validation losses as we train the network, we can see a phenomenon known as overfitting.\n",
        "\n",
        "<img src='https://github.com/leandromouralima/deep-learning/blob/master/intro-to-pytorch/assets/overfitting.png?raw=1' width=450px>\n",
        "\n",
        "The network learns the training set better and better, resulting in lower training losses. However, it starts having problems generalizing to data outside the training set leading to the validation loss increasing. The ultimate goal of any deep learning model is to make predictions on new data, so we should strive to get the lowest validation loss possible. One option is to use the version of the model with the lowest validation loss, here the one around 8-10 training epochs. This strategy is called *early-stopping*. In practice, you'd save the model frequently as you're training then later choose the model with the lowest validation loss.\n",
        "\n",
        "The most common method to reduce overfitting (outside of early-stopping) is *dropout*, where we randomly drop input units. This forces the network to share information between weights, increasing it's ability to generalize to new data. Adding dropout in PyTorch is straightforward using the [`nn.Dropout`](https://pytorch.org/docs/stable/nn.html#torch.nn.Dropout) module.\n",
        "\n",
        "```python\n",
        "class Classifier(nn.Module):\n",
        "    def __init__(self):\n",
        "        super().__init__()\n",
        "        self.fc1 = nn.Linear(784, 256)\n",
        "        self.fc2 = nn.Linear(256, 128)\n",
        "        self.fc3 = nn.Linear(128, 64)\n",
        "        self.fc4 = nn.Linear(64, 10)\n",
        "        \n",
        "        # Dropout module with 0.2 drop probability\n",
        "        self.dropout = nn.Dropout(p=0.2)\n",
        "        \n",
        "    def forward(self, x):\n",
        "        # make sure input tensor is flattened\n",
        "        x = x.view(x.shape[0], -1)\n",
        "        \n",
        "        # Now with dropout\n",
        "        x = self.dropout(F.relu(self.fc1(x)))\n",
        "        x = self.dropout(F.relu(self.fc2(x)))\n",
        "        x = self.dropout(F.relu(self.fc3(x)))\n",
        "        \n",
        "        # output so no dropout here\n",
        "        x = F.log_softmax(self.fc4(x), dim=1)\n",
        "        \n",
        "        return x\n",
        "```\n",
        "\n",
        "During training we want to use dropout to prevent overfitting, but during inference we want to use the entire network. So, we need to turn off dropout during validation, testing, and whenever we're using the network to make predictions. To do this, you use `model.eval()`. This sets the model to evaluation mode where the dropout probability is 0. You can turn dropout back on by setting the model to train mode with `model.train()`. In general, the pattern for the validation loop will look like this, where you turn off gradients, set the model to evaluation mode, calculate the validation loss and metric, then set the model back to train mode.\n",
        "\n",
        "```python\n",
        "# turn off gradients\n",
        "with torch.no_grad():\n",
        "    \n",
        "    # set model to evaluation mode\n",
        "    model.eval()\n",
        "    \n",
        "    # validation pass here\n",
        "    for images, labels in testloader:\n",
        "        ...\n",
        "\n",
        "# set model back to train mode\n",
        "model.train()\n",
        "```"
      ]
    },
    {
      "cell_type": "markdown",
      "metadata": {
        "id": "RzBT39CibxUZ",
        "colab_type": "text"
      },
      "source": [
        "> **Exercise:** Add dropout to your model and train it on Fashion-MNIST again. See if you can get a lower validation loss or higher accuracy."
      ]
    },
    {
      "cell_type": "code",
      "metadata": {
        "id": "7VhuFNoXbxUb",
        "colab_type": "code",
        "colab": {}
      },
      "source": [
        "## TODO: Define your model with dropout added\n",
        "\n",
        "from torch import nn, optim\n",
        "import torch.nn.functional as F\n",
        "\n",
        "class Classifier(nn.Module):\n",
        "    def __init__(self):\n",
        "        super().__init__()\n",
        "        self.fc1 = nn.Linear(784, 256)\n",
        "        self.fc2 = nn.Linear(256, 128)\n",
        "        self.fc3 = nn.Linear(128, 64)\n",
        "        self.fc4 = nn.Linear(64, 10)\n",
        "        \n",
        "        # Dropout module with 0.2 drop probability\n",
        "        self.dropout = nn.Dropout(p=0.2)\n",
        "        \n",
        "    def forward(self, x):\n",
        "        # make sure input tensor is flattened\n",
        "        x = x.view(x.shape[0], -1)\n",
        "        \n",
        "        x = self.dropout(F.relu(self.fc1(x)))\n",
        "        x = self.dropout(F.relu(self.fc2(x)))\n",
        "        x = self.dropout(F.relu(self.fc3(x)))\n",
        "        x = F.log_softmax(self.fc4(x), dim=1)\n",
        "        \n",
        "        return x\n",
        "        \n",
        "model = Classifier()\n",
        "criterion = nn.NLLLoss()\n",
        "optimizer = optim.Adam(model.parameters(), lr=0.003)"
      ],
      "execution_count": 0,
      "outputs": []
    },
    {
      "cell_type": "code",
      "metadata": {
        "id": "jmWwitAsbxUd",
        "colab_type": "code",
        "outputId": "fad19ffb-6a04-44bb-d485-43a98f7c723b",
        "colab": {
          "base_uri": "https://localhost:8080/",
          "height": 1547
        }
      },
      "source": [
        "## TODO: Train your model with dropout, and monitor the training progress with the validation loss and accuracy\n",
        "\n",
        "epochs = 30\n",
        "\n",
        "train_losses, test_losses = [], []\n",
        "for e in range(epochs):\n",
        "    train_loss = 0 \n",
        "    test_loss = 0\n",
        "    for images, labels in trainloader:\n",
        "        \n",
        "        optimizer.zero_grad()\n",
        "        \n",
        "        log_ps = model(images)\n",
        "        loss = criterion(log_ps, labels)\n",
        "        loss.backward()\n",
        "        optimizer.step()\n",
        "        \n",
        "        train_loss += loss.item()\n",
        "\n",
        "    else:\n",
        "        with torch.no_grad():\n",
        "            model.eval()\n",
        "            ## TODO: Implement the validation pass and print out the validation accuracy\n",
        "            accuracy = 0\n",
        "            #step2 = 0\n",
        "            for imagesT, labelsT in testloader:\n",
        "\n",
        "                log_psT = model(imagesT)\n",
        "                loss = criterion(log_psT, labelsT)\n",
        "              \n",
        "                psT = torch.exp(log_psT)\n",
        "                prob, classIndex = psT.topk(1,dim=1)\n",
        "                equals = classIndex == labelsT.view(*classIndex.shape)\n",
        "                acc = torch.mean(equals.type(torch.FloatTensor))\n",
        "                \n",
        "                test_loss += loss.item()\n",
        "                accuracy += acc.item()\n",
        "                #track_acc[step2] = acc.item()\n",
        "                #step2 += 1       \n",
        "        \n",
        "            else:\n",
        "                model.train()\n",
        "                #track_acc[steps]=accuracy/len(testloader)\n",
        "                train_losses.append(train_loss/len(trainloader))\n",
        "                test_losses.append(test_loss/len(testloader))\n",
        "              \n",
        "                #track_acc[steps] = accuracy/len(testloader)\n",
        "                print(f'Accuracy: {accuracy*100/len(testloader)}%')      \n",
        "                print(f'Train Losses: {train_loss/len(trainloader)}')\n",
        "                print(f'Test Losses: {test_loss/len(testloader)}')\n",
        "                "
      ],
      "execution_count": 19,
      "outputs": [
        {
          "output_type": "stream",
          "text": [
            "Accuracy: 80.8718152866242%\n",
            "Train Losses: 0.6197168960658981\n",
            "Test Losses: 0.5049219706635566\n",
            "Accuracy: 84.28542993630573%\n",
            "Train Losses: 0.476035726286455\n",
            "Test Losses: 0.44710469094051675\n",
            "Accuracy: 84.36504777070064%\n",
            "Train Losses: 0.4587278801129698\n",
            "Test Losses: 0.43384563467305176\n",
            "Accuracy: 84.54418789808918%\n",
            "Train Losses: 0.4370158102307747\n",
            "Test Losses: 0.428741257756379\n",
            "Accuracy: 84.98208598726114%\n",
            "Train Losses: 0.42298920214303265\n",
            "Test Losses: 0.41505729506729516\n",
            "Accuracy: 85.53941082802548%\n",
            "Train Losses: 0.4077826516428736\n",
            "Test Losses: 0.4009753396366812\n",
            "Accuracy: 86.00716560509554%\n",
            "Train Losses: 0.40685568182770887\n",
            "Test Losses: 0.3886530927032422\n",
            "Accuracy: 86.6640127388535%\n",
            "Train Losses: 0.4048114358934004\n",
            "Test Losses: 0.38609782848388524\n",
            "Accuracy: 85.64888535031847%\n",
            "Train Losses: 0.39547686142199584\n",
            "Test Losses: 0.4009177750273115\n",
            "Accuracy: 85.62898089171975%\n",
            "Train Losses: 0.38541206997086497\n",
            "Test Losses: 0.3994376704951001\n",
            "Accuracy: 86.35549363057325%\n",
            "Train Losses: 0.38471387644439364\n",
            "Test Losses: 0.38913468969096043\n",
            "Accuracy: 86.71377388535032%\n",
            "Train Losses: 0.3798822248096405\n",
            "Test Losses: 0.37852292968209383\n",
            "Accuracy: 86.57444267515923%\n",
            "Train Losses: 0.3802945540308444\n",
            "Test Losses: 0.3892407902296941\n",
            "Accuracy: 86.64410828025478%\n",
            "Train Losses: 0.37911726869563306\n",
            "Test Losses: 0.38093108660096575\n",
            "Accuracy: 86.94267515923566%\n",
            "Train Losses: 0.3778019950731095\n",
            "Test Losses: 0.37630265305756005\n",
            "Accuracy: 85.31050955414013%\n",
            "Train Losses: 0.369842699905639\n",
            "Test Losses: 0.40554207572891454\n",
            "Accuracy: 86.48487261146497%\n",
            "Train Losses: 0.3658741176652629\n",
            "Test Losses: 0.3888263782118536\n",
            "Accuracy: 86.60429936305732%\n",
            "Train Losses: 0.3650849542574588\n",
            "Test Losses: 0.3742402017496194\n",
            "Accuracy: 86.83320063694268%\n",
            "Train Losses: 0.36222984745050035\n",
            "Test Losses: 0.39299877130301897\n",
            "Accuracy: 87.09195859872611%\n",
            "Train Losses: 0.36024399709377464\n",
            "Test Losses: 0.37558407289017537\n",
            "Accuracy: 87.09195859872611%\n",
            "Train Losses: 0.3693797959209378\n",
            "Test Losses: 0.37201421636684684\n",
            "Accuracy: 86.2062101910828%\n",
            "Train Losses: 0.36111065395065206\n",
            "Test Losses: 0.3980821373925847\n",
            "Accuracy: 86.71377388535032%\n",
            "Train Losses: 0.3561820192441249\n",
            "Test Losses: 0.38609382794920805\n",
            "Accuracy: 86.70382165605096%\n",
            "Train Losses: 0.3550748495436681\n",
            "Test Losses: 0.3846569883215959\n",
            "Accuracy: 85.96735668789809%\n",
            "Train Losses: 0.3550653002345994\n",
            "Test Losses: 0.38848416791979673\n",
            "Accuracy: 86.63415605095541%\n",
            "Train Losses: 0.35438563438779763\n",
            "Test Losses: 0.3910282516175774\n",
            "Accuracy: 87.67914012738854%\n",
            "Train Losses: 0.35222542714843874\n",
            "Test Losses: 0.37694626823542227\n",
            "Accuracy: 86.60429936305732%\n",
            "Train Losses: 0.34712467093997673\n",
            "Test Losses: 0.3888683347090794\n",
            "Accuracy: 87.24124203821655%\n",
            "Train Losses: 0.34704978180243007\n",
            "Test Losses: 0.3746084670542152\n",
            "Accuracy: 87.41042993630573%\n",
            "Train Losses: 0.34905617770705144\n",
            "Test Losses: 0.3785413624184906\n"
          ],
          "name": "stdout"
        }
      ]
    },
    {
      "cell_type": "code",
      "metadata": {
        "id": "FcU875sNrd0a",
        "colab_type": "code",
        "outputId": "bb88d298-9cc6-41c8-ed68-743c3908882b",
        "colab": {
          "base_uri": "https://localhost:8080/",
          "height": 286
        }
      },
      "source": [
        "import matplotlib.pyplot as plt\n",
        "\n",
        "plt.plot(train_losses)\n",
        "plt.plot(test_losses)\n",
        "#track\n",
        "#track_acc"
      ],
      "execution_count": 21,
      "outputs": [
        {
          "output_type": "execute_result",
          "data": {
            "text/plain": [
              "[<matplotlib.lines.Line2D at 0x7fc2b20bb048>]"
            ]
          },
          "metadata": {
            "tags": []
          },
          "execution_count": 21
        },
        {
          "output_type": "display_data",
          "data": {
            "image/png": "[encoded data removed]",
            "text/plain": [
              "<Figure size 432x288 with 1 Axes>"
            ]
          },
          "metadata": {
            "tags": []
          }
        }
      ]
    },
    {
      "cell_type": "markdown",
      "metadata": {
        "id": "dL8QnibCbxUf",
        "colab_type": "text"
      },
      "source": [
        "## Inference\n",
        "\n",
        "Now that the model is trained, we can use it for inference. We've done this before, but now we need to remember to set the model in inference mode with `model.eval()`. You'll also want to turn off autograd with the `torch.no_grad()` context."
      ]
    },
    {
      "cell_type": "code",
      "metadata": {
        "id": "qEulYDfobxUg",
        "colab_type": "code",
        "outputId": "82a817de-5ce4-423e-e545-0d84545ceaf2",
        "colab": {
          "base_uri": "https://localhost:8080/",
          "height": 197
        }
      },
      "source": [
        "# Import helper module (should be in the repo)\n",
        "import helper\n",
        "\n",
        "# Test out your network!\n",
        "\n",
        "model.eval()\n",
        "\n",
        "dataiter = iter(testloader)\n",
        "images, labels = dataiter.next()\n",
        "img = images[0]\n",
        "# Convert 2D image to 1D vector\n",
        "img = img.view(1, 784)\n",
        "\n",
        "# Calculate the class probabilities (softmax) for img\n",
        "with torch.no_grad():\n",
        "    output = model.forward(img)\n",
        "\n",
        "ps = torch.exp(output)\n",
        "\n",
        "# Plot the image and probabilities\n",
        "helper.view_classify(img.view(1, 28, 28), ps, version='Fashion')"
      ],
      "execution_count": 23,
      "outputs": [
        {
          "output_type": "error",
          "ename": "AttributeError",
          "evalue": "ignored",
          "traceback": [
            "\u001b[0;31m---------------------------------------------------------------------------\u001b[0m",
            "\u001b[0;31mAttributeError\u001b[0m                            Traceback (most recent call last)",
            "\u001b[0;32m<ipython-input-23-596150a47b43>\u001b[0m in \u001b[0;36m<module>\u001b[0;34m()\u001b[0m\n\u001b[1;32m     18\u001b[0m \u001b[0;34m\u001b[0m\u001b[0m\n\u001b[1;32m     19\u001b[0m \u001b[0;31m# Plot the image and probabilities\u001b[0m\u001b[0;34m\u001b[0m\u001b[0;34m\u001b[0m\u001b[0;34m\u001b[0m\u001b[0m\n\u001b[0;32m---> 20\u001b[0;31m \u001b[0mhelper\u001b[0m\u001b[0;34m.\u001b[0m\u001b[0mview_classify\u001b[0m\u001b[0;34m(\u001b[0m\u001b[0mimg\u001b[0m\u001b[0;34m.\u001b[0m\u001b[0mview\u001b[0m\u001b[0;34m(\u001b[0m\u001b[0;36m1\u001b[0m\u001b[0;34m,\u001b[0m \u001b[0;36m28\u001b[0m\u001b[0;34m,\u001b[0m \u001b[0;36m28\u001b[0m\u001b[0;34m)\u001b[0m\u001b[0;34m,\u001b[0m \u001b[0mps\u001b[0m\u001b[0;34m,\u001b[0m \u001b[0mversion\u001b[0m\u001b[0;34m=\u001b[0m\u001b[0;34m'Fashion'\u001b[0m\u001b[0;34m)\u001b[0m\u001b[0;34m\u001b[0m\u001b[0;34m\u001b[0m\u001b[0m\n\u001b[0m",
            "\u001b[0;31mAttributeError\u001b[0m: module 'helper' has no attribute 'view_classify'"
          ]
        }
      ]
    },
    {
      "cell_type": "markdown",
      "metadata": {
        "id": "kYQDEExpbxUj",
        "colab_type": "text"
      },
      "source": [
        "## Next Up!\n",
        "\n",
        "In the next part, I'll show you how to save your trained models. In general, you won't want to train a model everytime you need it. Instead, you'll train once, save it, then load the model when you want to train more or use if for inference."
      ]
    }
  ]
}