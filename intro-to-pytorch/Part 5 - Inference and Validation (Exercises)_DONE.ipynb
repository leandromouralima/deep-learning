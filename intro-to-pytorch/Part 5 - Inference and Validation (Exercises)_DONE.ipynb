{
  "nbformat": 4,
  "nbformat_minor": 0,
  "metadata": {
    "colab": {
      "name": "Part 5 - Inference and Validation (Exercises).ipynb",
      "version": "0.3.2",
      "provenance": []
    },
    "language_info": {
      "codemirror_mode": {
        "name": "ipython",
        "version": 3
      },
      "file_extension": ".py",
      "mimetype": "text/x-python",
      "name": "python",
      "nbconvert_exporter": "python",
      "pygments_lexer": "ipython3",
      "version": "3.6.6"
    },
    "kernelspec": {
      "name": "python3",
      "display_name": "Python 3"
    },
    "accelerator": "GPU"
  },
  "cells": [
    {
      "cell_type": "markdown",
      "metadata": {
        "id": "Zo4fbj-JbxT5",
        "colab_type": "text"
      },
      "source": [
        "# Inference and Validation\n",
        "\n",
        "Now that you have a trained network, you can use it for making predictions. This is typically called **inference**, a term borrowed from statistics. However, neural networks have a tendency to perform *too well* on the training data and aren't able to generalize to data that hasn't been seen before. This is called **overfitting** and it impairs inference performance. To test for overfitting while training, we measure the performance on data not in the training set called the **validation** set. We avoid overfitting through regularization such as dropout while monitoring the validation performance during training. In this notebook, I'll show you how to do this in PyTorch. \n",
        "\n",
        "As usual, let's start by loading the dataset through torchvision. You'll learn more about torchvision and loading data in a later part. This time we'll be taking advantage of the test set which you can get by setting `train=False` here:\n",
        "\n",
        "```python\n",
        "testset = datasets.FashionMNIST('~/.pytorch/F_MNIST_data/', download=True, train=False, transform=transform)\n",
        "```\n",
        "\n",
        "The test set contains images just like the training set. Typically you'll see 10-20% of the original dataset held out for testing and validation with the rest being used for training."
      ]
    },
    {
      "cell_type": "code",
      "metadata": {
        "id": "W1ZxODuqbxT8",
        "colab_type": "code",
        "colab": {}
      },
      "source": [
        "import torch\n",
        "from torchvision import datasets, transforms\n",
        "\n",
        "# Define a transform to normalize the data\n",
        "transform = transforms.Compose([transforms.ToTensor(),\n",
        "                                transforms.Normalize((0.5,), (0.5,))])\n",
        "# Download and load the training data\n",
        "trainset = datasets.FashionMNIST('~/.pytorch/F_MNIST_data/', download=True, train=True, transform=transform)\n",
        "trainloader = torch.utils.data.DataLoader(trainset, batch_size=64, shuffle=True)\n",
        "\n",
        "# Download and load the test data\n",
        "testset = datasets.FashionMNIST('~/.pytorch/F_MNIST_data/', download=True, train=False, transform=transform)\n",
        "testloader = torch.utils.data.DataLoader(testset, batch_size=64, shuffle=True)"
      ],
      "execution_count": 0,
      "outputs": []
    },
    {
      "cell_type": "markdown",
      "metadata": {
        "id": "yR0-_zYJbxUB",
        "colab_type": "text"
      },
      "source": [
        "Here I'll create a model like normal, using the same one from my solution for part 4."
      ]
    },
    {
      "cell_type": "code",
      "metadata": {
        "id": "l_FYbS14bxUC",
        "colab_type": "code",
        "colab": {}
      },
      "source": [
        "from torch import nn, optim\n",
        "import torch.nn.functional as F\n",
        "\n",
        "class Classifier(nn.Module):\n",
        "    def __init__(self):\n",
        "        super().__init__()\n",
        "        self.fc1 = nn.Linear(784, 256)\n",
        "        self.fc2 = nn.Linear(256, 128)\n",
        "        self.fc3 = nn.Linear(128, 64)\n",
        "        self.fc4 = nn.Linear(64, 10)\n",
        "        \n",
        "    def forward(self, x):\n",
        "        # make sure input tensor is flattened\n",
        "        x = x.view(x.shape[0], -1)\n",
        "        \n",
        "        x = F.relu(self.fc1(x))\n",
        "        x = F.relu(self.fc2(x))\n",
        "        x = F.relu(self.fc3(x))\n",
        "        x = F.log_softmax(self.fc4(x), dim=1)\n",
        "        \n",
        "        return x"
      ],
      "execution_count": 0,
      "outputs": []
    },
    {
      "cell_type": "markdown",
      "metadata": {
        "id": "MoNQ3ViebxUG",
        "colab_type": "text"
      },
      "source": [
        "The goal of validation is to measure the model's performance on data that isn't part of the training set. Performance here is up to the developer to define though. Typically this is just accuracy, the percentage of classes the network predicted correctly. Other options are [precision and recall](https://en.wikipedia.org/wiki/Precision_and_recall#Definition_(classification_context)) and top-5 error rate. We'll focus on accuracy here. First I'll do a forward pass with one batch from the test set."
      ]
    },
    {
      "cell_type": "code",
      "metadata": {
        "id": "7ytFv7-6bxUH",
        "colab_type": "code",
        "outputId": "a2457b53-bed0-4e5f-8673-d25bc185c78b",
        "colab": {
          "base_uri": "https://localhost:8080/",
          "height": 34
        }
      },
      "source": [
        "model = Classifier()\n",
        "\n",
        "images, labels = next(iter(testloader))\n",
        "# Get the class probabilities\n",
        "ps = torch.exp(model(images))\n",
        "# Make sure the shape is appropriate, we should get 10 class probabilities for 64 examples\n",
        "print(ps.shape)"
      ],
      "execution_count": 64,
      "outputs": [
        {
          "output_type": "stream",
          "text": [
            "torch.Size([64, 10])\n"
          ],
          "name": "stdout"
        }
      ]
    },
    {
      "cell_type": "markdown",
      "metadata": {
        "id": "ys9QMBlNbxUL",
        "colab_type": "text"
      },
      "source": [
        "With the probabilities, we can get the most likely class using the `ps.topk` method. This returns the $k$ highest values. Since we just want the most likely class, we can use `ps.topk(1)`. This returns a tuple of the top-$k$ values and the top-$k$ indices. If the highest value is the fifth element, we'll get back 4 as the index."
      ]
    },
    {
      "cell_type": "code",
      "metadata": {
        "id": "cH1qdNpbbxUM",
        "colab_type": "code",
        "outputId": "d3b63ec6-7dde-47ad-b0f5-b76c86dbe1d1",
        "colab": {
          "base_uri": "https://localhost:8080/",
          "height": 187
        }
      },
      "source": [
        "top_p, top_class = ps.topk(1, dim=1)\n",
        "# Look at the most likely classes for the first 10 examples\n",
        "\n",
        "print(top_class[:10,:])"
      ],
      "execution_count": 65,
      "outputs": [
        {
          "output_type": "stream",
          "text": [
            "tensor([[1],\n",
            "        [1],\n",
            "        [1],\n",
            "        [1],\n",
            "        [1],\n",
            "        [1],\n",
            "        [1],\n",
            "        [1],\n",
            "        [1],\n",
            "        [1]])\n"
          ],
          "name": "stdout"
        }
      ]
    },
    {
      "cell_type": "markdown",
      "metadata": {
        "id": "ZzC2R5o4bxUP",
        "colab_type": "text"
      },
      "source": [
        "Now we can check if the predicted classes match the labels. This is simple to do by equating `top_class` and `labels`, but we have to be careful of the shapes. Here `top_class` is a 2D tensor with shape `(64, 1)` while `labels` is 1D with shape `(64)`. To get the equality to work out the way we want, `top_class` and `labels` must have the same shape.\n",
        "\n",
        "If we do\n",
        "\n",
        "```python\n",
        "equals = top_class == labels\n",
        "```\n",
        "\n",
        "`equals` will have shape `(64, 64)`, try it yourself. What it's doing is comparing the one element in each row of `top_class` with each element in `labels` which returns 64 True/False boolean values for each row."
      ]
    },
    {
      "cell_type": "code",
      "metadata": {
        "id": "s-5ynNxTbxUQ",
        "colab_type": "code",
        "colab": {}
      },
      "source": [
        "equals = top_class == labels.view(*top_class.shape)"
      ],
      "execution_count": 0,
      "outputs": []
    },
    {
      "cell_type": "markdown",
      "metadata": {
        "id": "uCl0EIcFbxUT",
        "colab_type": "text"
      },
      "source": [
        "Now we need to calculate the percentage of correct predictions. `equals` has binary values, either 0 or 1. This means that if we just sum up all the values and divide by the number of values, we get the percentage of correct predictions. This is the same operation as taking the mean, so we can get the accuracy with a call to `torch.mean`. If only it was that simple. If you try `torch.mean(equals)`, you'll get an error\n",
        "\n",
        "```\n",
        "RuntimeError: mean is not implemented for type torch.ByteTensor\n",
        "```\n",
        "\n",
        "This happens because `equals` has type `torch.ByteTensor` but `torch.mean` isn't implemented for tensors with that type. So we'll need to convert `equals` to a float tensor. Note that when we take `torch.mean` it returns a scalar tensor, to get the actual value as a float we'll need to do `accuracy.item()`."
      ]
    },
    {
      "cell_type": "code",
      "metadata": {
        "id": "m8qhi1WlbxUT",
        "colab_type": "code",
        "outputId": "0ad77144-0693-4a1f-cd83-a9cd326ceed9",
        "colab": {
          "base_uri": "https://localhost:8080/",
          "height": 34
        }
      },
      "source": [
        "accuracy = torch.mean(equals.type(torch.FloatTensor))\n",
        "print(f'Accuracy: {accuracy.item()*100}%')"
      ],
      "execution_count": 67,
      "outputs": [
        {
          "output_type": "stream",
          "text": [
            "Accuracy: 9.375%\n"
          ],
          "name": "stdout"
        }
      ]
    },
    {
      "cell_type": "markdown",
      "metadata": {
        "id": "ff8aLAxJbxUW",
        "colab_type": "text"
      },
      "source": [
        "The network is untrained so it's making random guesses and we should see an accuracy around 10%. Now let's train our network and include our validation pass so we can measure how well the network is performing on the test set. Since we're not updating our parameters in the validation pass, we can speed up our code by turning off gradients using `torch.no_grad()`:\n",
        "\n",
        "```python\n",
        "# turn off gradients\n",
        "with torch.no_grad():\n",
        "    # validation pass here\n",
        "    for images, labels in testloader:\n",
        "        ...\n",
        "```\n",
        "\n",
        ">**Exercise:** Implement the validation loop below and print out the total accuracy after the loop. You can largely copy and paste the code from above, but I suggest typing it in because writing it out yourself is essential for building the skill. In general you'll always learn more by typing it rather than copy-pasting. You should be able to get an accuracy above 80%."
      ]
    },
    {
      "cell_type": "code",
      "metadata": {
        "id": "AZXhyhSCbxUW",
        "colab_type": "code",
        "outputId": "0ab00c60-4b30-4e2d-8b61-1b54c3f18d21",
        "colab": {
          "base_uri": "https://localhost:8080/",
          "height": 3597
        }
      },
      "source": [
        "model = Classifier()\n",
        "criterion = nn.NLLLoss()\n",
        "optimizer = optim.Adam(model.parameters(), lr=0.003)\n",
        "\n",
        "epochs = 1\n",
        "\n",
        "track = torch.zeros(100)\n",
        "track_acc = torch.zeros(100)\n",
        "\n",
        "train_losses, test_losses = [], []\n",
        "for e in range(epochs):\n",
        "    running_loss = 0\n",
        "    steps = 0\n",
        "    for images, labels in trainloader:\n",
        "        \n",
        "        optimizer.zero_grad()\n",
        "        \n",
        "        log_ps = model(images)\n",
        "        loss = criterion(log_ps, labels)\n",
        "        loss.backward()\n",
        "        optimizer.step()\n",
        "        \n",
        "        running_loss += loss.item()\n",
        "        track[steps] = loss.item()\n",
        "        steps += 1 \n",
        "        if steps == 101:\n",
        "            break\n",
        "        with torch.no_grad():\n",
        "\n",
        "            ## TODO: Implement the validation pass and print out the validation accuracy\n",
        "            accuracy = 0\n",
        "            #step2 = 0\n",
        "            for imagesT, labelsT in testloader:\n",
        "\n",
        "                psT = torch.exp(model(imagesT))\n",
        "                prob, classIndex = psT.topk(1,dim=1)\n",
        "                equals = classIndex == labelsT.view(*classIndex.shape)\n",
        "                acc = torch.mean(equals.type(torch.FloatTensor))\n",
        "                \n",
        "                accuracy += acc.item()\n",
        "                #track_acc[step2] = acc.item()\n",
        "                #step2 += 1       \n",
        "        \n",
        "            else:\n",
        "                #track_acc[steps]=accuracy/len(testloader)\n",
        "                track_acc[steps] = accuracy/len(testloader)\n",
        "                print(f'Accuracy: {accuracy*100/len(testloader)}%')      \n",
        "                print(f'Losses: {loss.item()}')\n",
        "        \n",
        "        \n",
        "        \n",
        "\n",
        "                \n",
        "                 "
      ],
      "execution_count": 68,
      "outputs": [
        {
          "output_type": "stream",
          "text": [
            "Accuracy: 9.982085987261147%\n",
            "Losses: 2.3160641193389893\n",
            "Accuracy: 19.88455414012739%\n",
            "Losses: 2.230633020401001\n",
            "Accuracy: 34.753184713375795%\n",
            "Losses: 2.183805465698242\n",
            "Accuracy: 38.36584394904459%\n",
            "Losses: 1.8325474262237549\n",
            "Accuracy: 45.78025477707006%\n",
            "Losses: 1.8870139122009277\n",
            "Accuracy: 47.20342356687898%\n",
            "Losses: 1.5998873710632324\n",
            "Accuracy: 50.77627388535032%\n",
            "Losses: 1.5796908140182495\n",
            "Accuracy: 54.508359872611464%\n",
            "Losses: 1.4908555746078491\n",
            "Accuracy: 51.93073248407644%\n",
            "Losses: 1.2624953985214233\n",
            "Accuracy: 61.902866242038215%\n",
            "Losses: 1.175596833229065\n",
            "Accuracy: 61.29578025477707%\n",
            "Losses: 1.1896620988845825\n",
            "Accuracy: 56.797372611464965%\n",
            "Losses: 1.2062867879867554\n",
            "Accuracy: 55.21496815286624%\n",
            "Losses: 1.2100927829742432\n",
            "Accuracy: 61.68391719745223%\n",
            "Losses: 1.1148144006729126\n",
            "Accuracy: 60.7484076433121%\n",
            "Losses: 0.838329017162323\n",
            "Accuracy: 59.96218152866242%\n",
            "Losses: 0.9644095301628113\n",
            "Accuracy: 63.90326433121019%\n",
            "Losses: 1.136061429977417\n",
            "Accuracy: 66.7296974522293%\n",
            "Losses: 1.1133570671081543\n",
            "Accuracy: 66.49084394904459%\n",
            "Losses: 0.7741092443466187\n",
            "Accuracy: 66.53065286624204%\n",
            "Losses: 0.927423357963562\n",
            "Accuracy: 67.078025477707%\n",
            "Losses: 1.0205453634262085\n",
            "Accuracy: 64.71934713375796%\n",
            "Losses: 0.9160358905792236\n",
            "Accuracy: 64.90843949044586%\n",
            "Losses: 0.9707223176956177\n",
            "Accuracy: 66.09275477707007%\n",
            "Losses: 1.142602562904358\n",
            "Accuracy: 65.60509554140127%\n",
            "Losses: 0.9112299680709839\n",
            "Accuracy: 62.430334394904456%\n",
            "Losses: 0.9240256547927856\n",
            "Accuracy: 61.42515923566879%\n",
            "Losses: 0.8769025206565857\n",
            "Accuracy: 65.625%\n",
            "Losses: 1.1856343746185303\n",
            "Accuracy: 70.48168789808918%\n",
            "Losses: 1.0615837574005127\n",
            "Accuracy: 70.36226114649682%\n",
            "Losses: 0.7585151791572571\n",
            "Accuracy: 67.92396496815287%\n",
            "Losses: 0.7715785503387451\n",
            "Accuracy: 66.05294585987261%\n",
            "Losses: 0.8234725594520569\n",
            "Accuracy: 68.27229299363057%\n",
            "Losses: 1.037624478340149\n",
            "Accuracy: 70.8499203821656%\n",
            "Losses: 0.6773640513420105\n",
            "Accuracy: 72.38256369426752%\n",
            "Losses: 0.7170196771621704\n",
            "Accuracy: 72.42237261146497%\n",
            "Losses: 0.7045103311538696\n",
            "Accuracy: 71.765525477707%\n",
            "Losses: 0.8218636512756348\n",
            "Accuracy: 72.40246815286625%\n",
            "Losses: 0.7268599271774292\n",
            "Accuracy: 72.0640923566879%\n",
            "Losses: 0.7238800525665283\n",
            "Accuracy: 72.4422770700637%\n",
            "Losses: 0.5313491225242615\n",
            "Accuracy: 73.63654458598727%\n",
            "Losses: 0.6204453110694885\n",
            "Accuracy: 74.02468152866243%\n",
            "Losses: 0.6816419959068298\n",
            "Accuracy: 73.22850318471338%\n",
            "Losses: 0.7706633806228638\n",
            "Accuracy: 73.23845541401273%\n",
            "Losses: 0.7324519157409668\n",
            "Accuracy: 73.48726114649682%\n",
            "Losses: 0.5413580536842346\n",
            "Accuracy: 73.328025477707%\n",
            "Losses: 0.9229143857955933\n",
            "Accuracy: 72.66122611464968%\n",
            "Losses: 0.5441457629203796\n",
            "Accuracy: 72.2531847133758%\n",
            "Losses: 0.5760729908943176\n",
            "Accuracy: 73.0593152866242%\n",
            "Losses: 0.5681589841842651\n",
            "Accuracy: 73.58678343949045%\n",
            "Losses: 0.5290431976318359\n",
            "Accuracy: 74.02468152866243%\n",
            "Losses: 0.8564515113830566\n",
            "Accuracy: 73.14888535031847%\n",
            "Losses: 0.43881329894065857\n",
            "Accuracy: 72.11385350318471%\n",
            "Losses: 0.786800742149353\n",
            "Accuracy: 70.97929936305732%\n",
            "Losses: 0.7264671921730042\n",
            "Accuracy: 70.54140127388536%\n",
            "Losses: 0.5105830430984497\n",
            "Accuracy: 73.21855095541402%\n",
            "Losses: 0.5299407839775085\n",
            "Accuracy: 74.45262738853503%\n",
            "Losses: 0.984529972076416\n",
            "Accuracy: 70.25278662420382%\n",
            "Losses: 0.7493482232093811\n",
            "Accuracy: 67.80453821656052%\n",
            "Losses: 0.6882343292236328\n",
            "Accuracy: 68.71019108280255%\n",
            "Losses: 0.7822467684745789\n",
            "Accuracy: 71.53662420382166%\n",
            "Losses: 0.7590780258178711\n",
            "Accuracy: 74.55214968152866%\n",
            "Losses: 0.77927166223526\n",
            "Accuracy: 75.43789808917198%\n",
            "Losses: 0.573277473449707\n",
            "Accuracy: 74.47253184713375%\n",
            "Losses: 0.47765854001045227\n",
            "Accuracy: 73.8156847133758%\n",
            "Losses: 0.7981282472610474\n",
            "Accuracy: 72.40246815286625%\n",
            "Losses: 0.6951249241828918\n",
            "Accuracy: 72.32285031847134%\n",
            "Losses: 0.7050381898880005\n",
            "Accuracy: 73.53702229299363%\n",
            "Losses: 0.9038163423538208\n",
            "Accuracy: 75.1592356687898%\n",
            "Losses: 0.7186996936798096\n",
            "Accuracy: 75.9156050955414%\n",
            "Losses: 0.6070020198822021\n",
            "Accuracy: 76.44307324840764%\n",
            "Losses: 0.6488544344902039\n",
            "Accuracy: 76.09474522292993%\n",
            "Losses: 0.5811893939971924\n",
            "Accuracy: 76.35350318471338%\n",
            "Losses: 0.8071624636650085\n",
            "Accuracy: 76.62221337579618%\n",
            "Losses: 0.5192464590072632\n",
            "Accuracy: 76.59235668789809%\n",
            "Losses: 0.6237519979476929\n",
            "Accuracy: 76.32364649681529%\n",
            "Losses: 0.6812766790390015\n",
            "Accuracy: 76.05493630573248%\n",
            "Losses: 0.6423633694648743\n",
            "Accuracy: 75.84593949044586%\n",
            "Losses: 0.5406373143196106\n",
            "Accuracy: 74.80095541401273%\n",
            "Losses: 0.4387083351612091\n",
            "Accuracy: 74.4625796178344%\n",
            "Losses: 0.6408103704452515\n",
            "Accuracy: 75.16918789808918%\n",
            "Losses: 0.812778890132904\n",
            "Accuracy: 76.01512738853503%\n",
            "Losses: 0.7214276194572449\n",
            "Accuracy: 76.54259554140127%\n",
            "Losses: 0.5173179507255554\n",
            "Accuracy: 76.44307324840764%\n",
            "Losses: 0.5774016976356506\n",
            "Accuracy: 75.5374203821656%\n",
            "Losses: 0.626124382019043\n",
            "Accuracy: 75.47770700636943%\n",
            "Losses: 0.7610374689102173\n",
            "Accuracy: 75.73646496815287%\n",
            "Losses: 0.6797919273376465\n",
            "Accuracy: 77.38853503184713%\n",
            "Losses: 0.9092392921447754\n",
            "Accuracy: 74.76114649681529%\n",
            "Losses: 0.6343950033187866\n",
            "Accuracy: 74.33320063694268%\n",
            "Losses: 0.8460789322853088\n",
            "Accuracy: 74.20382165605096%\n",
            "Losses: 0.7015476822853088\n",
            "Accuracy: 73.22850318471338%\n",
            "Losses: 0.580508828163147\n",
            "Accuracy: 74.3232484076433%\n",
            "Losses: 0.7220880389213562\n",
            "Accuracy: 75.52746815286625%\n",
            "Losses: 0.6508020162582397\n",
            "Accuracy: 76.5625%\n",
            "Losses: 0.802083432674408\n",
            "Accuracy: 76.93073248407643%\n",
            "Losses: 0.5361355543136597\n",
            "Accuracy: 75.79617834394904%\n",
            "Losses: 0.5511077642440796\n",
            "Accuracy: 75.13933121019109%\n",
            "Losses: 0.604922354221344\n",
            "Accuracy: 75.01990445859873%\n",
            "Losses: 0.7027575969696045\n"
          ],
          "name": "stdout"
        },
        {
          "output_type": "error",
          "ename": "IndexError",
          "evalue": "ignored",
          "traceback": [
            "\u001b[0;31m---------------------------------------------------------------------------\u001b[0m",
            "\u001b[0;31mIndexError\u001b[0m                                Traceback (most recent call last)",
            "\u001b[0;32m<ipython-input-68-e98672cd5f9a>\u001b[0m in \u001b[0;36m<module>\u001b[0;34m()\u001b[0m\n\u001b[1;32m     44\u001b[0m             \u001b[0;32melse\u001b[0m\u001b[0;34m:\u001b[0m\u001b[0;34m\u001b[0m\u001b[0;34m\u001b[0m\u001b[0m\n\u001b[1;32m     45\u001b[0m                 \u001b[0;31m#track_acc[steps]=accuracy/len(testloader)\u001b[0m\u001b[0;34m\u001b[0m\u001b[0;34m\u001b[0m\u001b[0;34m\u001b[0m\u001b[0m\n\u001b[0;32m---> 46\u001b[0;31m                 \u001b[0mtrack_acc\u001b[0m\u001b[0;34m[\u001b[0m\u001b[0msteps\u001b[0m\u001b[0;34m]\u001b[0m \u001b[0;34m=\u001b[0m \u001b[0maccuracy\u001b[0m\u001b[0;34m/\u001b[0m\u001b[0mlen\u001b[0m\u001b[0;34m(\u001b[0m\u001b[0mtestloader\u001b[0m\u001b[0;34m)\u001b[0m\u001b[0;34m\u001b[0m\u001b[0;34m\u001b[0m\u001b[0m\n\u001b[0m\u001b[1;32m     47\u001b[0m                 \u001b[0mprint\u001b[0m\u001b[0;34m(\u001b[0m\u001b[0;34mf'Accuracy: {accuracy*100/len(testloader)}%'\u001b[0m\u001b[0;34m)\u001b[0m\u001b[0;34m\u001b[0m\u001b[0;34m\u001b[0m\u001b[0m\n\u001b[1;32m     48\u001b[0m                 \u001b[0mprint\u001b[0m\u001b[0;34m(\u001b[0m\u001b[0;34mf'Losses: {loss.item()}'\u001b[0m\u001b[0;34m)\u001b[0m\u001b[0;34m\u001b[0m\u001b[0;34m\u001b[0m\u001b[0m\n",
            "\u001b[0;31mIndexError\u001b[0m: index 100 is out of bounds for dimension 0 with size 100"
          ]
        }
      ]
    },
    {
      "cell_type": "code",
      "metadata": {
        "id": "xqCLFW2osX9V",
        "colab_type": "code",
        "outputId": "089be0d8-69c3-4afd-fa99-d84a6a07e954",
        "colab": {
          "base_uri": "https://localhost:8080/",
          "height": 286
        }
      },
      "source": [
        "import matplotlib.pyplot as plt\n",
        "\n",
        "plt.plot(track.numpy())\n",
        "plt.plot(track_acc.numpy())\n",
        "#track\n",
        "#track_acc"
      ],
      "execution_count": 69,
      "outputs": [
        {
          "output_type": "execute_result",
          "data": {
            "text/plain": [
              "[<matplotlib.lines.Line2D at 0x7fd49d9adef0>]"
            ]
          },
          "metadata": {
            "tags": []
          },
          "execution_count": 69
        },
        {
          "output_type": "display_data",
          "data": {
            "image/png": "[encoded data removed]",
            "text/plain": [
              "<Figure size 432x288 with 1 Axes>"
            ]
          },
          "metadata": {
            "tags": []
          }
        }
      ]
    },
    {
      "cell_type": "markdown",
      "metadata": {
        "id": "A1p5Ayb6bxUY",
        "colab_type": "text"
      },
      "source": [
        "## Overfitting\n",
        "\n",
        "If we look at the training and validation losses as we train the network, we can see a phenomenon known as overfitting.\n",
        "\n",
        "<img src='https://github.com/leandromouralima/deep-learning/blob/master/intro-to-pytorch/assets/overfitting.png?raw=1' width=450px>\n",
        "\n",
        "The network learns the training set better and better, resulting in lower training losses. However, it starts having problems generalizing to data outside the training set leading to the validation loss increasing. The ultimate goal of any deep learning model is to make predictions on new data, so we should strive to get the lowest validation loss possible. One option is to use the version of the model with the lowest validation loss, here the one around 8-10 training epochs. This strategy is called *early-stopping*. In practice, you'd save the model frequently as you're training then later choose the model with the lowest validation loss.\n",
        "\n",
        "The most common method to reduce overfitting (outside of early-stopping) is *dropout*, where we randomly drop input units. This forces the network to share information between weights, increasing it's ability to generalize to new data. Adding dropout in PyTorch is straightforward using the [`nn.Dropout`](https://pytorch.org/docs/stable/nn.html#torch.nn.Dropout) module.\n",
        "\n",
        "```python\n",
        "class Classifier(nn.Module):\n",
        "    def __init__(self):\n",
        "        super().__init__()\n",
        "        self.fc1 = nn.Linear(784, 256)\n",
        "        self.fc2 = nn.Linear(256, 128)\n",
        "        self.fc3 = nn.Linear(128, 64)\n",
        "        self.fc4 = nn.Linear(64, 10)\n",
        "        \n",
        "        # Dropout module with 0.2 drop probability\n",
        "        self.dropout = nn.Dropout(p=0.2)\n",
        "        \n",
        "    def forward(self, x):\n",
        "        # make sure input tensor is flattened\n",
        "        x = x.view(x.shape[0], -1)\n",
        "        \n",
        "        # Now with dropout\n",
        "        x = self.dropout(F.relu(self.fc1(x)))\n",
        "        x = self.dropout(F.relu(self.fc2(x)))\n",
        "        x = self.dropout(F.relu(self.fc3(x)))\n",
        "        \n",
        "        # output so no dropout here\n",
        "        x = F.log_softmax(self.fc4(x), dim=1)\n",
        "        \n",
        "        return x\n",
        "```\n",
        "\n",
        "During training we want to use dropout to prevent overfitting, but during inference we want to use the entire network. So, we need to turn off dropout during validation, testing, and whenever we're using the network to make predictions. To do this, you use `model.eval()`. This sets the model to evaluation mode where the dropout probability is 0. You can turn dropout back on by setting the model to train mode with `model.train()`. In general, the pattern for the validation loop will look like this, where you turn off gradients, set the model to evaluation mode, calculate the validation loss and metric, then set the model back to train mode.\n",
        "\n",
        "```python\n",
        "# turn off gradients\n",
        "with torch.no_grad():\n",
        "    \n",
        "    # set model to evaluation mode\n",
        "    model.eval()\n",
        "    \n",
        "    # validation pass here\n",
        "    for images, labels in testloader:\n",
        "        ...\n",
        "\n",
        "# set model back to train mode\n",
        "model.train()\n",
        "```"
      ]
    },
    {
      "cell_type": "markdown",
      "metadata": {
        "id": "RzBT39CibxUZ",
        "colab_type": "text"
      },
      "source": [
        "> **Exercise:** Add dropout to your model and train it on Fashion-MNIST again. See if you can get a lower validation loss or higher accuracy."
      ]
    },
    {
      "cell_type": "code",
      "metadata": {
        "id": "7VhuFNoXbxUb",
        "colab_type": "code",
        "colab": {}
      },
      "source": [
        "## TODO: Define your model with dropout added\n",
        "\n",
        "from torch import nn, optim\n",
        "import torch.nn.functional as F\n",
        "\n",
        "class Classifier(nn.Module):\n",
        "    def __init__(self):\n",
        "        super().__init__()\n",
        "        self.fc1 = nn.Linear(784, 256)\n",
        "        self.fc2 = nn.Linear(256, 128)\n",
        "        self.fc3 = nn.Linear(128, 64)\n",
        "        self.fc4 = nn.Linear(64, 10)\n",
        "        \n",
        "        # Dropout module with 0.2 drop probability\n",
        "        self.dropout = nn.Dropout(p=0.2)\n",
        "        \n",
        "    def forward(self, x):\n",
        "        # make sure input tensor is flattened\n",
        "        x = x.view(x.shape[0], -1)\n",
        "        \n",
        "        x = self.dropout(F.relu(self.fc1(x)))\n",
        "        x = self.dropout(F.relu(self.fc2(x)))\n",
        "        x = self.dropout(F.relu(self.fc3(x)))\n",
        "        x = F.log_softmax(self.fc4(x), dim=1)\n",
        "        \n",
        "        return x\n",
        "        \n",
        "model = Classifier()\n",
        "criterion = nn.NLLLoss()\n",
        "optimizer = optim.Adam(model.parameters(), lr=0.003)"
      ],
      "execution_count": 0,
      "outputs": []
    },
    {
      "cell_type": "code",
      "metadata": {
        "id": "jmWwitAsbxUd",
        "colab_type": "code",
        "colab": {
          "base_uri": "https://localhost:8080/",
          "height": 3597
        },
        "outputId": "524e84d0-a4f6-4cf1-b3f4-709b566eb68c"
      },
      "source": [
        "## TODO: Train your model with dropout, and monitor the training progress with the validation loss and accuracy\n",
        "\n",
        "epochs = 1\n",
        "\n",
        "track = torch.zeros(100)\n",
        "track_acc = torch.zeros(100)\n",
        "\n",
        "train_losses, test_losses = [], []\n",
        "for e in range(epochs):\n",
        "    running_loss = 0\n",
        "    steps = 0\n",
        "    for images, labels in trainloader:\n",
        "        \n",
        "        optimizer.zero_grad()\n",
        "        \n",
        "        log_ps = model(images)\n",
        "        loss = criterion(log_ps, labels)\n",
        "        loss.backward()\n",
        "        optimizer.step()\n",
        "        \n",
        "        running_loss += loss.item()\n",
        "        track[steps] = loss.item()\n",
        "        steps += 1 \n",
        "        if steps == 101:\n",
        "            break\n",
        "        with torch.no_grad():\n",
        "            \n",
        "            model.eval()\n",
        "            ## TODO: Implement the validation pass and print out the validation accuracy\n",
        "            accuracy = 0\n",
        "            #step2 = 0\n",
        "            for imagesT, labelsT in testloader:\n",
        "\n",
        "                psT = torch.exp(model(imagesT))\n",
        "                prob, classIndex = psT.topk(1,dim=1)\n",
        "                equals = classIndex == labelsT.view(*classIndex.shape)\n",
        "                acc = torch.mean(equals.type(torch.FloatTensor))\n",
        "                \n",
        "                accuracy += acc.item()\n",
        "                #track_acc[step2] = acc.item()\n",
        "                #step2 += 1       \n",
        "        \n",
        "            else:\n",
        "                #track_acc[steps]=accuracy/len(testloader)\n",
        "                track_acc[steps] = accuracy/len(testloader)\n",
        "                print(f'Accuracy: {accuracy*100/len(testloader)}%')      \n",
        "                print(f'Losses: {loss.item()}')\n",
        "                model.train()\n",
        "                "
      ],
      "execution_count": 74,
      "outputs": [
        {
          "output_type": "stream",
          "text": [
            "Accuracy: 18.630573248407643%\n",
            "Losses: 2.306879997253418\n",
            "Accuracy: 19.844745222929937%\n",
            "Losses: 2.179022789001465\n",
            "Accuracy: 26.771496815286625%\n",
            "Losses: 2.334002733230591\n",
            "Accuracy: 41.3515127388535%\n",
            "Losses: 1.9469192028045654\n",
            "Accuracy: 45.20302547770701%\n",
            "Losses: 1.900085210800171\n",
            "Accuracy: 45.1234076433121%\n",
            "Losses: 1.7569506168365479\n",
            "Accuracy: 47.283041401273884%\n",
            "Losses: 1.623069167137146\n",
            "Accuracy: 49.25358280254777%\n",
            "Losses: 1.4522123336791992\n",
            "Accuracy: 50.11942675159236%\n",
            "Losses: 1.5067873001098633\n",
            "Accuracy: 53.82165605095541%\n",
            "Losses: 1.5449349880218506\n",
            "Accuracy: 57.3546974522293%\n",
            "Losses: 1.3130319118499756\n",
            "Accuracy: 56.1703821656051%\n",
            "Losses: 1.231949806213379\n",
            "Accuracy: 57.0859872611465%\n",
            "Losses: 1.1447523832321167\n",
            "Accuracy: 58.86743630573248%\n",
            "Losses: 1.0894137620925903\n",
            "Accuracy: 60.559315286624205%\n",
            "Losses: 1.1436717510223389\n",
            "Accuracy: 58.89729299363057%\n",
            "Losses: 1.4781124591827393\n",
            "Accuracy: 61.27587579617835%\n",
            "Losses: 1.1047606468200684\n",
            "Accuracy: 63.73407643312102%\n",
            "Losses: 0.9702551364898682\n",
            "Accuracy: 65.31648089171975%\n",
            "Losses: 1.001288652420044\n",
            "Accuracy: 66.50079617834395%\n",
            "Losses: 1.167490005493164\n",
            "Accuracy: 65.74442675159236%\n",
            "Losses: 0.9856699109077454\n",
            "Accuracy: 67.36664012738854%\n",
            "Losses: 0.9090959429740906\n",
            "Accuracy: 66.11265923566879%\n",
            "Losses: 1.0635948181152344\n",
            "Accuracy: 65.8937101910828%\n",
            "Losses: 1.0960654020309448\n",
            "Accuracy: 66.59036624203821%\n",
            "Losses: 1.2976256608963013\n",
            "Accuracy: 67.89410828025478%\n",
            "Losses: 1.2119616270065308\n",
            "Accuracy: 68.13296178343948%\n",
            "Losses: 0.9384585618972778\n",
            "Accuracy: 70.33240445859873%\n",
            "Losses: 0.9660501480102539\n",
            "Accuracy: 71.0390127388535%\n",
            "Losses: 0.934690535068512\n",
            "Accuracy: 70.66082802547771%\n",
            "Losses: 0.843979001045227\n",
            "Accuracy: 69.44665605095541%\n",
            "Losses: 0.9216652512550354\n",
            "Accuracy: 68.84952229299363%\n",
            "Losses: 0.9467704892158508\n",
            "Accuracy: 69.83479299363057%\n",
            "Losses: 0.7565930485725403\n",
            "Accuracy: 69.81488853503184%\n",
            "Losses: 0.6557568907737732\n",
            "Accuracy: 68.76990445859873%\n",
            "Losses: 0.8048009872436523\n",
            "Accuracy: 70.25278662420382%\n",
            "Losses: 0.7896069288253784\n",
            "Accuracy: 70.86982484076434%\n",
            "Losses: 0.8054674863815308\n",
            "Accuracy: 70.67078025477707%\n",
            "Losses: 0.8923003673553467\n",
            "Accuracy: 70.97929936305732%\n",
            "Losses: 0.8838150501251221\n",
            "Accuracy: 72.7109872611465%\n",
            "Losses: 0.8396612405776978\n",
            "Accuracy: 73.7062101910828%\n",
            "Losses: 0.7755192518234253\n",
            "Accuracy: 74.12420382165605%\n",
            "Losses: 0.9490096569061279\n",
            "Accuracy: 73.8156847133758%\n",
            "Losses: 0.8496019244194031\n",
            "Accuracy: 73.11902866242038%\n",
            "Losses: 0.6341947317123413\n",
            "Accuracy: 72.74084394904459%\n",
            "Losses: 0.8903802037239075\n",
            "Accuracy: 73.28821656050955%\n",
            "Losses: 0.7972161173820496\n",
            "Accuracy: 71.40724522292993%\n",
            "Losses: 0.9892369508743286\n",
            "Accuracy: 70.66082802547771%\n",
            "Losses: 0.9595052003860474\n",
            "Accuracy: 71.12858280254777%\n",
            "Losses: 1.1919102668762207\n",
            "Accuracy: 72.40246815286625%\n",
            "Losses: 0.9441581964492798\n",
            "Accuracy: 74.26353503184713%\n",
            "Losses: 0.864953339099884\n",
            "Accuracy: 72.66122611464968%\n",
            "Losses: 0.8709630966186523\n",
            "Accuracy: 71.84514331210191%\n",
            "Losses: 0.878982663154602\n",
            "Accuracy: 71.3375796178344%\n",
            "Losses: 0.9041470885276794\n",
            "Accuracy: 72.75079617834395%\n",
            "Losses: 0.6808013916015625\n",
            "Accuracy: 72.69108280254777%\n",
            "Losses: 0.7494121789932251\n",
            "Accuracy: 72.91998407643312%\n",
            "Losses: 0.8052440285682678\n",
            "Accuracy: 73.44745222929936%\n",
            "Losses: 0.7949585914611816\n",
            "Accuracy: 73.52707006369427%\n",
            "Losses: 0.68841952085495\n",
            "Accuracy: 72.9000796178344%\n",
            "Losses: 0.5179753303527832\n",
            "Accuracy: 73.328025477707%\n",
            "Losses: 0.5747644901275635\n",
            "Accuracy: 73.82563694267516%\n",
            "Losses: 0.7574992179870605\n",
            "Accuracy: 74.56210191082802%\n",
            "Losses: 0.7310560941696167\n",
            "Accuracy: 74.49243630573248%\n",
            "Losses: 0.8084343671798706\n",
            "Accuracy: 73.45740445859873%\n",
            "Losses: 0.8913678526878357\n",
            "Accuracy: 73.33797770700637%\n",
            "Losses: 0.7774146795272827\n",
            "Accuracy: 73.6265923566879%\n",
            "Losses: 0.7465676069259644\n",
            "Accuracy: 72.4124203821656%\n",
            "Losses: 0.9042869806289673\n",
            "Accuracy: 70.09355095541402%\n",
            "Losses: 0.6224015355110168\n",
            "Accuracy: 69.52627388535032%\n",
            "Losses: 0.6074134707450867\n",
            "Accuracy: 70.96934713375796%\n",
            "Losses: 0.7886224985122681\n",
            "Accuracy: 72.89012738853503%\n",
            "Losses: 0.6923758387565613\n",
            "Accuracy: 73.57683121019109%\n",
            "Losses: 0.8998017311096191\n",
            "Accuracy: 72.89012738853503%\n",
            "Losses: 0.7827805876731873\n",
            "Accuracy: 72.37261146496816%\n",
            "Losses: 0.6643715500831604\n",
            "Accuracy: 72.38256369426752%\n",
            "Losses: 0.7544422149658203\n",
            "Accuracy: 71.6859076433121%\n",
            "Losses: 0.6602826714515686\n",
            "Accuracy: 70.5812101910828%\n",
            "Losses: 0.7266712784767151\n",
            "Accuracy: 70.53144904458598%\n",
            "Losses: 0.7538762092590332\n",
            "Accuracy: 71.25796178343948%\n",
            "Losses: 0.8476265072822571\n",
            "Accuracy: 71.65605095541402%\n",
            "Losses: 0.6188316345214844\n",
            "Accuracy: 73.04936305732484%\n",
            "Losses: 0.6533330678939819\n",
            "Accuracy: 73.78582802547771%\n",
            "Losses: 0.7270697355270386\n",
            "Accuracy: 74.10429936305732%\n",
            "Losses: 0.7788779735565186\n",
            "Accuracy: 73.31807324840764%\n",
            "Losses: 0.6257330179214478\n",
            "Accuracy: 73.2782643312102%\n",
            "Losses: 0.6586284041404724\n",
            "Accuracy: 73.39769108280255%\n",
            "Losses: 0.9755595922470093\n",
            "Accuracy: 73.34792993630573%\n",
            "Losses: 0.8172891139984131\n",
            "Accuracy: 73.22850318471338%\n",
            "Losses: 0.7045760750770569\n",
            "Accuracy: 72.93988853503184%\n",
            "Losses: 0.5188605189323425\n",
            "Accuracy: 72.53184713375796%\n",
            "Losses: 0.6146032214164734\n",
            "Accuracy: 71.67595541401273%\n",
            "Losses: 0.9589813947677612\n",
            "Accuracy: 71.7157643312102%\n",
            "Losses: 0.7996953725814819\n",
            "Accuracy: 72.27308917197452%\n",
            "Losses: 0.5627961158752441\n",
            "Accuracy: 73.47730891719745%\n",
            "Losses: 0.781907856464386\n",
            "Accuracy: 75.16918789808918%\n",
            "Losses: 1.0788865089416504\n",
            "Accuracy: 75.14928343949045%\n",
            "Losses: 0.7232081294059753\n",
            "Accuracy: 73.83558917197452%\n",
            "Losses: 0.6241909265518188\n",
            "Accuracy: 73.01950636942675%\n",
            "Losses: 0.7373954057693481\n"
          ],
          "name": "stdout"
        },
        {
          "output_type": "error",
          "ename": "IndexError",
          "evalue": "ignored",
          "traceback": [
            "\u001b[0;31m---------------------------------------------------------------------------\u001b[0m",
            "\u001b[0;31mIndexError\u001b[0m                                Traceback (most recent call last)",
            "\u001b[0;32m<ipython-input-74-62b03a7a40b9>\u001b[0m in \u001b[0;36m<module>\u001b[0;34m()\u001b[0m\n\u001b[1;32m     42\u001b[0m             \u001b[0;32melse\u001b[0m\u001b[0;34m:\u001b[0m\u001b[0;34m\u001b[0m\u001b[0;34m\u001b[0m\u001b[0m\n\u001b[1;32m     43\u001b[0m                 \u001b[0;31m#track_acc[steps]=accuracy/len(testloader)\u001b[0m\u001b[0;34m\u001b[0m\u001b[0;34m\u001b[0m\u001b[0;34m\u001b[0m\u001b[0m\n\u001b[0;32m---> 44\u001b[0;31m                 \u001b[0mtrack_acc\u001b[0m\u001b[0;34m[\u001b[0m\u001b[0msteps\u001b[0m\u001b[0;34m]\u001b[0m \u001b[0;34m=\u001b[0m \u001b[0maccuracy\u001b[0m\u001b[0;34m/\u001b[0m\u001b[0mlen\u001b[0m\u001b[0;34m(\u001b[0m\u001b[0mtestloader\u001b[0m\u001b[0;34m)\u001b[0m\u001b[0;34m\u001b[0m\u001b[0;34m\u001b[0m\u001b[0m\n\u001b[0m\u001b[1;32m     45\u001b[0m                 \u001b[0mprint\u001b[0m\u001b[0;34m(\u001b[0m\u001b[0;34mf'Accuracy: {accuracy*100/len(testloader)}%'\u001b[0m\u001b[0;34m)\u001b[0m\u001b[0;34m\u001b[0m\u001b[0;34m\u001b[0m\u001b[0m\n\u001b[1;32m     46\u001b[0m                 \u001b[0mprint\u001b[0m\u001b[0;34m(\u001b[0m\u001b[0;34mf'Losses: {loss.item()}'\u001b[0m\u001b[0;34m)\u001b[0m\u001b[0;34m\u001b[0m\u001b[0;34m\u001b[0m\u001b[0m\n",
            "\u001b[0;31mIndexError\u001b[0m: index 100 is out of bounds for dimension 0 with size 100"
          ]
        }
      ]
    },
    {
      "cell_type": "code",
      "metadata": {
        "id": "FcU875sNrd0a",
        "colab_type": "code",
        "colab": {
          "base_uri": "https://localhost:8080/",
          "height": 286
        },
        "outputId": "195c5e16-1b30-478e-a04e-bdccf3e7dcba"
      },
      "source": [
        "import matplotlib.pyplot as plt\n",
        "\n",
        "plt.plot(track.numpy())\n",
        "plt.plot(track_acc.numpy())"
      ],
      "execution_count": 75,
      "outputs": [
        {
          "output_type": "execute_result",
          "data": {
            "text/plain": [
              "[<matplotlib.lines.Line2D at 0x7fd49abc8978>]"
            ]
          },
          "metadata": {
            "tags": []
          },
          "execution_count": 75
        },
        {
          "output_type": "display_data",
          "data": {
            "image/png": "[encoded data removed]",
            "text/plain": [
              "<Figure size 432x288 with 1 Axes>"
            ]
          },
          "metadata": {
            "tags": []
          }
        }
      ]
    },
    {
      "cell_type": "markdown",
      "metadata": {
        "id": "dL8QnibCbxUf",
        "colab_type": "text"
      },
      "source": [
        "## Inference\n",
        "\n",
        "Now that the model is trained, we can use it for inference. We've done this before, but now we need to remember to set the model in inference mode with `model.eval()`. You'll also want to turn off autograd with the `torch.no_grad()` context."
      ]
    },
    {
      "cell_type": "code",
      "metadata": {
        "id": "qEulYDfobxUg",
        "colab_type": "code",
        "outputId": "452b6930-0838-4db4-a06b-395afa2a6de1",
        "colab": {
          "base_uri": "https://localhost:8080/",
          "height": 224
        }
      },
      "source": [
        "# Import helper module (should be in the repo)\n",
        "import helper\n",
        "\n",
        "# Test out your network!\n",
        "\n",
        "model.eval()\n",
        "\n",
        "dataiter = iter(testloader)\n",
        "images, labels = dataiter.next()\n",
        "img = images[0]\n",
        "# Convert 2D image to 1D vector\n",
        "img = img.view(1, 784)\n",
        "\n",
        "# Calculate the class probabilities (softmax) for img\n",
        "with torch.no_grad():\n",
        "    output = model.forward(img)\n",
        "\n",
        "ps = torch.exp(output)\n",
        "\n",
        "# Plot the image and probabilities\n",
        "helper.view_classify(img.view(1, 28, 28), ps, version='Fashion')"
      ],
      "execution_count": 84,
      "outputs": [
        {
          "output_type": "display_data",
          "data": {
            "image/png": "[encoded data removed]",
            "text/plain": [
              "<Figure size 432x648 with 2 Axes>"
            ]
          },
          "metadata": {
            "tags": []
          }
        }
      ]
    },
    {
      "cell_type": "markdown",
      "metadata": {
        "id": "kYQDEExpbxUj",
        "colab_type": "text"
      },
      "source": [
        "## Next Up!\n",
        "\n",
        "In the next part, I'll show you how to save your trained models. In general, you won't want to train a model everytime you need it. Instead, you'll train once, save it, then load the model when you want to train more or use if for inference."
      ]
    }
  ]
}